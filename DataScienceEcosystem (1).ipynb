{
 "cells": [
  {
   "cell_type": "code",
   "execution_count": null,
   "id": "112b8f9f-74cd-48ad-9f68-275cfb5bdb2e",
   "metadata": {},
   "outputs": [],
   "source": []
  },
  {
   "cell_type": "markdown",
   "id": "a5a1efb2-e1ac-468b-a8b6-8ef4f2919195",
   "metadata": {},
   "source": [
    "# Data Science Tools and Ecosystem"
   ]
  },
  {
   "cell_type": "markdown",
   "id": "de9ca574-3ff7-4315-adac-9d9a24e619fd",
   "metadata": {},
   "source": [
    "In this notebook, Data Science Tools and Ecosystem are summarized."
   ]
  },
  {
   "cell_type": "markdown",
   "id": "d367880b-d969-4913-922c-b1481c74d787",
   "metadata": {
    "tags": []
   },
   "source": [
    "**Objectives:**\n",
    " - List popular languages for Data Science\n",
    " - Some of the commonly used libraries used by Data Scientists include\n",
    " - Commonly used libraries by Data Science"
   ]
  },
  {
   "cell_type": "markdown",
   "id": "40d5c878-eac0-49cc-ad84-9dd5ddb3e029",
   "metadata": {},
   "source": [
    "Some of the popular languages that Data Scientists use are:\n",
    "1. Python\n",
    "2. R\n",
    "3. Scala\n",
    "4. Spark"
   ]
  },
  {
   "cell_type": "markdown",
   "id": "d5b7f75c-df60-40e2-bb3e-2a86d9710e03",
   "metadata": {},
   "source": [
    "Some of the commonly used libraries used by Data Scientists include:\n",
    "1. Pandas\n",
    "2. ggplot\n",
    "3. num_py\n",
    "4. goggly"
   ]
  },
  {
   "cell_type": "markdown",
   "id": "c118fe4d-f541-46a3-9603-3c955c2be0c6",
   "metadata": {},
   "source": [
    "| --- |\n",
    "| Data Science Tools |\n",
    "| --- |\n",
    "| Python | \n",
    "| R |\n",
    "| Scala |"
   ]
  },
  {
   "cell_type": "markdown",
   "id": "5793ee5d-f052-46e4-93a7-c819aef53f66",
   "metadata": {},
   "source": []
  },
  {
   "cell_type": "markdown",
   "id": "110a6642-d38d-420a-9782-fb27d4d0cd1d",
   "metadata": {},
   "source": [
    "### Below are a few examples of evaluating arithmetic expressions in Python.\n",
    "x = 10\n",
    "y = 20\n",
    "z = y - x\n",
    "Print(z)"
   ]
  },
  {
   "cell_type": "code",
   "execution_count": 19,
   "id": "663a9630-c3a8-4450-a5bb-f4b5c1fc48ae",
   "metadata": {
    "tags": []
   },
   "outputs": [
    {
     "data": {
      "text/plain": [
       "17"
      ]
     },
     "execution_count": 19,
     "metadata": {},
     "output_type": "execute_result"
    }
   ],
   "source": [
    "#This a simple arithmetic expression to mutiply then add integers\n",
    "(3*4)+5"
   ]
  },
  {
   "cell_type": "code",
   "execution_count": 21,
   "id": "12d783a1-704e-46ba-8f80-dfce0392c205",
   "metadata": {
    "tags": []
   },
   "outputs": [
    {
     "data": {
      "text/plain": [
       "3.3333333333333335"
      ]
     },
     "execution_count": 21,
     "metadata": {},
     "output_type": "execute_result"
    }
   ],
   "source": [
    "#This will convert 200 minutes to hours by diving by 60.\n",
    "200 / 60"
   ]
  },
  {
   "cell_type": "markdown",
   "id": "60f42c0a-4da0-4b31-9127-e319ed240d47",
   "metadata": {},
   "source": [
    "## Author\n",
    "Jose I Saenz"
   ]
  }
 ],
 "metadata": {
  "kernelspec": {
   "display_name": "Python 3 (ipykernel)",
   "language": "python",
   "name": "python3"
  },
  "language_info": {
   "codemirror_mode": {
    "name": "ipython",
    "version": 3
   },
   "file_extension": ".py",
   "mimetype": "text/x-python",
   "name": "python",
   "nbconvert_exporter": "python",
   "pygments_lexer": "ipython3",
   "version": "3.11.7"
  }
 },
 "nbformat": 4,
 "nbformat_minor": 5
}
