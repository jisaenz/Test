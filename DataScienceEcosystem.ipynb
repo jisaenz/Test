{
 "cells": [
  {
   "cell_type": "markdown",
   "id": "e09be07e-50a6-492a-81b2-e6b81a6f54c2",
   "metadata": {},
   "source": [
    "H1 \"Data Science Tools and Ecosystem\"\n"
   ]
  },
  {
   "cell_type": "markdown",
   "id": "a5a1efb2-e1ac-468b-a8b6-8ef4f2919195",
   "metadata": {},
   "source": [
    "# H1 Data Science Tools and Ecosystem "
   ]
  },
  {
   "cell_type": "markdown",
   "id": "de9ca574-3ff7-4315-adac-9d9a24e619fd",
   "metadata": {},
   "source": [
    "In this notebook, Data Science Tools and Ecosystem are summarized."
   ]
  },
  {
   "cell_type": "markdown",
   "id": "40d5c878-eac0-49cc-ad84-9dd5ddb3e029",
   "metadata": {},
   "source": [
    "Some of the popular languages that Data Scientists use are:"
   ]
  },
  {
   "cell_type": "markdown",
   "id": "e0b8f326-b358-4149-9c7a-4d62a24a5af0",
   "metadata": {},
   "source": [
    "1. Python\n",
    "2. R\n",
    "3. Scala\n",
    "4. Spark"
   ]
  },
  {
   "cell_type": "markdown",
   "id": "d5b7f75c-df60-40e2-bb3e-2a86d9710e03",
   "metadata": {},
   "source": [
    "Some of the commonly used libraries used by Data Scientists include:\n",
    "1. Pandas\n",
    "2. ggplot\n",
    "3. num_py\n",
    "4. goggly"
   ]
  },
  {
   "cell_type": "markdown",
   "id": "c118fe4d-f541-46a3-9603-3c955c2be0c6",
   "metadata": {},
   "source": [
    "| --- |\n",
    "| Data Science Tools |\n",
    "| --- |\n",
    "| Python | \n",
    "| R |\n",
    "| Scala |"
   ]
  },
  {
   "cell_type": "markdown",
   "id": "5793ee5d-f052-46e4-93a7-c819aef53f66",
   "metadata": {},
   "source": []
  },
  {
   "cell_type": "markdown",
   "id": "110a6642-d38d-420a-9782-fb27d4d0cd1d",
   "metadata": {},
   "source": [
    "Below are a few examples of evaluating arithmetic expressions in Python.\n",
    "x = 10\n",
    "y = 20\n",
    "z = y - x\n",
    "Print(z)"
   ]
  },
  {
   "cell_type": "code",
   "execution_count": 13,
   "id": "23fa0f2c-5dee-4d53-b1f3-fa29884002f3",
   "metadata": {
    "tags": []
   },
   "outputs": [
    {
     "name": "stdout",
     "output_type": "stream",
     "text": [
      "10\n"
     ]
    }
   ],
   "source": [
    "x = 10\n",
    "y = 20\n",
    "z = y - x\n",
    "print(x)\n"
   ]
  },
  {
   "cell_type": "markdown",
   "id": "1fe5365b-d908-495a-833d-f75576e99699",
   "metadata": {},
   "source": [
    "This a simple arithmetic expression to mutiply then add integers."
   ]
  },
  {
   "cell_type": "code",
   "execution_count": 16,
   "id": "b93e30af-8924-4c38-a21d-e761fa18ed07",
   "metadata": {
    "tags": []
   },
   "outputs": [
    {
     "data": {
      "text/plain": [
       "17"
      ]
     },
     "execution_count": 16,
     "metadata": {},
     "output_type": "execute_result"
    }
   ],
   "source": [
    "(3*4)+5"
   ]
  },
  {
   "cell_type": "markdown",
   "id": "3fefd4d4-9f98-4ed5-bd8f-2dee255eb539",
   "metadata": {},
   "source": [
    "This will convert 200 minutes to hours by diving by 60."
   ]
  },
  {
   "cell_type": "code",
   "execution_count": 19,
   "id": "547a42fa-193e-4473-9076-01cdc3e4dd3c",
   "metadata": {
    "tags": []
   },
   "outputs": [
    {
     "data": {
      "text/plain": [
       "3.3333333333333335"
      ]
     },
     "execution_count": 19,
     "metadata": {},
     "output_type": "execute_result"
    }
   ],
   "source": [
    "200 / 60"
   ]
  },
  {
   "cell_type": "markdown",
   "id": "b5e4a796-39c2-4d4b-ac61-e81ab4628731",
   "metadata": {
    "tags": []
   },
   "source": [
    "# **Objectives:\n",
    "## List popular languages for Data Science\n",
    "## Some of the commonly used libraries used by Data Scientists include\n",
    "## Headers\n",
    "## Titles"
   ]
  },
  {
   "cell_type": "markdown",
   "id": "60f42c0a-4da0-4b31-9127-e319ed240d47",
   "metadata": {},
   "source": [
    "## Author\n",
    "Jose I Saenz"
   ]
  },
  {
   "cell_type": "code",
   "execution_count": null,
   "id": "cf89d24b-2e68-40e7-92fe-b07f7872d2ae",
   "metadata": {},
   "outputs": [],
   "source": []
  }
 ],
 "metadata": {
  "kernelspec": {
   "display_name": "Python 3 (ipykernel)",
   "language": "python",
   "name": "python3"
  },
  "language_info": {
   "codemirror_mode": {
    "name": "ipython",
    "version": 3
   },
   "file_extension": ".py",
   "mimetype": "text/x-python",
   "name": "python",
   "nbconvert_exporter": "python",
   "pygments_lexer": "ipython3",
   "version": "3.11.7"
  }
 },
 "nbformat": 4,
 "nbformat_minor": 5
}
